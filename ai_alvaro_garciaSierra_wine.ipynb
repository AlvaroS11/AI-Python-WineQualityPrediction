{
 "cells": [
  {
   "cell_type": "code",
   "execution_count": 6,
   "id": "f6a3d631",
   "metadata": {
    "scrolled": false
   },
   "outputs": [
    {
     "name": "stdout",
     "output_type": "stream",
     "text": [
      "<class 'pandas.core.frame.DataFrame'>\n",
      "RangeIndex: 4898 entries, 0 to 4897\n",
      "Data columns (total 12 columns):\n",
      " #   Column                Non-Null Count  Dtype  \n",
      "---  ------                --------------  -----  \n",
      " 0   fixed acidity         4898 non-null   float64\n",
      " 1   volatile acidity      4898 non-null   float64\n",
      " 2   citric acid           4898 non-null   float64\n",
      " 3   residual sugar        4898 non-null   float64\n",
      " 4   chlorides             4898 non-null   float64\n",
      " 5   free sulfur dioxide   4898 non-null   float64\n",
      " 6   total sulfur dioxide  4898 non-null   float64\n",
      " 7   density               4898 non-null   float64\n",
      " 8   pH                    4898 non-null   float64\n",
      " 9   sulphates             4898 non-null   float64\n",
      " 10  alcohol               4898 non-null   float64\n",
      " 11  quality               4898 non-null   int64  \n",
      "dtypes: float64(11), int64(1)\n",
      "memory usage: 459.3 KB\n"
     ]
    },
    {
     "data": {
      "text/html": [
       "<div>\n",
       "<style scoped>\n",
       "    .dataframe tbody tr th:only-of-type {\n",
       "        vertical-align: middle;\n",
       "    }\n",
       "\n",
       "    .dataframe tbody tr th {\n",
       "        vertical-align: top;\n",
       "    }\n",
       "\n",
       "    .dataframe thead th {\n",
       "        text-align: right;\n",
       "    }\n",
       "</style>\n",
       "<table border=\"1\" class=\"dataframe\">\n",
       "  <thead>\n",
       "    <tr style=\"text-align: right;\">\n",
       "      <th></th>\n",
       "      <th>fixed acidity</th>\n",
       "      <th>volatile acidity</th>\n",
       "      <th>citric acid</th>\n",
       "      <th>residual sugar</th>\n",
       "      <th>chlorides</th>\n",
       "      <th>free sulfur dioxide</th>\n",
       "      <th>total sulfur dioxide</th>\n",
       "      <th>density</th>\n",
       "      <th>pH</th>\n",
       "      <th>sulphates</th>\n",
       "      <th>alcohol</th>\n",
       "      <th>quality</th>\n",
       "    </tr>\n",
       "  </thead>\n",
       "  <tbody>\n",
       "    <tr>\n",
       "      <th>count</th>\n",
       "      <td>4898.000000</td>\n",
       "      <td>4898.000000</td>\n",
       "      <td>4898.000000</td>\n",
       "      <td>4898.000000</td>\n",
       "      <td>4898.000000</td>\n",
       "      <td>4898.000000</td>\n",
       "      <td>4898.000000</td>\n",
       "      <td>4898.000000</td>\n",
       "      <td>4898.000000</td>\n",
       "      <td>4898.000000</td>\n",
       "      <td>4898.000000</td>\n",
       "      <td>4898.000000</td>\n",
       "    </tr>\n",
       "    <tr>\n",
       "      <th>mean</th>\n",
       "      <td>6.854788</td>\n",
       "      <td>0.278241</td>\n",
       "      <td>0.334192</td>\n",
       "      <td>6.391415</td>\n",
       "      <td>0.045772</td>\n",
       "      <td>35.308085</td>\n",
       "      <td>138.360657</td>\n",
       "      <td>0.994027</td>\n",
       "      <td>3.188267</td>\n",
       "      <td>0.489847</td>\n",
       "      <td>10.514267</td>\n",
       "      <td>5.877909</td>\n",
       "    </tr>\n",
       "    <tr>\n",
       "      <th>std</th>\n",
       "      <td>0.843868</td>\n",
       "      <td>0.100795</td>\n",
       "      <td>0.121020</td>\n",
       "      <td>5.072058</td>\n",
       "      <td>0.021848</td>\n",
       "      <td>17.007137</td>\n",
       "      <td>42.498065</td>\n",
       "      <td>0.002991</td>\n",
       "      <td>0.151001</td>\n",
       "      <td>0.114126</td>\n",
       "      <td>1.230621</td>\n",
       "      <td>0.885639</td>\n",
       "    </tr>\n",
       "    <tr>\n",
       "      <th>min</th>\n",
       "      <td>3.800000</td>\n",
       "      <td>0.080000</td>\n",
       "      <td>0.000000</td>\n",
       "      <td>0.600000</td>\n",
       "      <td>0.009000</td>\n",
       "      <td>2.000000</td>\n",
       "      <td>9.000000</td>\n",
       "      <td>0.987110</td>\n",
       "      <td>2.720000</td>\n",
       "      <td>0.220000</td>\n",
       "      <td>8.000000</td>\n",
       "      <td>3.000000</td>\n",
       "    </tr>\n",
       "    <tr>\n",
       "      <th>25%</th>\n",
       "      <td>6.300000</td>\n",
       "      <td>0.210000</td>\n",
       "      <td>0.270000</td>\n",
       "      <td>1.700000</td>\n",
       "      <td>0.036000</td>\n",
       "      <td>23.000000</td>\n",
       "      <td>108.000000</td>\n",
       "      <td>0.991723</td>\n",
       "      <td>3.090000</td>\n",
       "      <td>0.410000</td>\n",
       "      <td>9.500000</td>\n",
       "      <td>5.000000</td>\n",
       "    </tr>\n",
       "    <tr>\n",
       "      <th>50%</th>\n",
       "      <td>6.800000</td>\n",
       "      <td>0.260000</td>\n",
       "      <td>0.320000</td>\n",
       "      <td>5.200000</td>\n",
       "      <td>0.043000</td>\n",
       "      <td>34.000000</td>\n",
       "      <td>134.000000</td>\n",
       "      <td>0.993740</td>\n",
       "      <td>3.180000</td>\n",
       "      <td>0.470000</td>\n",
       "      <td>10.400000</td>\n",
       "      <td>6.000000</td>\n",
       "    </tr>\n",
       "    <tr>\n",
       "      <th>75%</th>\n",
       "      <td>7.300000</td>\n",
       "      <td>0.320000</td>\n",
       "      <td>0.390000</td>\n",
       "      <td>9.900000</td>\n",
       "      <td>0.050000</td>\n",
       "      <td>46.000000</td>\n",
       "      <td>167.000000</td>\n",
       "      <td>0.996100</td>\n",
       "      <td>3.280000</td>\n",
       "      <td>0.550000</td>\n",
       "      <td>11.400000</td>\n",
       "      <td>6.000000</td>\n",
       "    </tr>\n",
       "    <tr>\n",
       "      <th>max</th>\n",
       "      <td>14.200000</td>\n",
       "      <td>1.100000</td>\n",
       "      <td>1.660000</td>\n",
       "      <td>65.800000</td>\n",
       "      <td>0.346000</td>\n",
       "      <td>289.000000</td>\n",
       "      <td>440.000000</td>\n",
       "      <td>1.038980</td>\n",
       "      <td>3.820000</td>\n",
       "      <td>1.080000</td>\n",
       "      <td>14.200000</td>\n",
       "      <td>9.000000</td>\n",
       "    </tr>\n",
       "  </tbody>\n",
       "</table>\n",
       "</div>"
      ],
      "text/plain": [
       "       fixed acidity  volatile acidity  citric acid  residual sugar  \\\n",
       "count    4898.000000       4898.000000  4898.000000     4898.000000   \n",
       "mean        6.854788          0.278241     0.334192        6.391415   \n",
       "std         0.843868          0.100795     0.121020        5.072058   \n",
       "min         3.800000          0.080000     0.000000        0.600000   \n",
       "25%         6.300000          0.210000     0.270000        1.700000   \n",
       "50%         6.800000          0.260000     0.320000        5.200000   \n",
       "75%         7.300000          0.320000     0.390000        9.900000   \n",
       "max        14.200000          1.100000     1.660000       65.800000   \n",
       "\n",
       "         chlorides  free sulfur dioxide  total sulfur dioxide      density  \\\n",
       "count  4898.000000          4898.000000           4898.000000  4898.000000   \n",
       "mean      0.045772            35.308085            138.360657     0.994027   \n",
       "std       0.021848            17.007137             42.498065     0.002991   \n",
       "min       0.009000             2.000000              9.000000     0.987110   \n",
       "25%       0.036000            23.000000            108.000000     0.991723   \n",
       "50%       0.043000            34.000000            134.000000     0.993740   \n",
       "75%       0.050000            46.000000            167.000000     0.996100   \n",
       "max       0.346000           289.000000            440.000000     1.038980   \n",
       "\n",
       "                pH    sulphates      alcohol      quality  \n",
       "count  4898.000000  4898.000000  4898.000000  4898.000000  \n",
       "mean      3.188267     0.489847    10.514267     5.877909  \n",
       "std       0.151001     0.114126     1.230621     0.885639  \n",
       "min       2.720000     0.220000     8.000000     3.000000  \n",
       "25%       3.090000     0.410000     9.500000     5.000000  \n",
       "50%       3.180000     0.470000    10.400000     6.000000  \n",
       "75%       3.280000     0.550000    11.400000     6.000000  \n",
       "max       3.820000     1.080000    14.200000     9.000000  "
      ]
     },
     "execution_count": 6,
     "metadata": {},
     "output_type": "execute_result"
    }
   ],
   "source": [
    "import numpy as np\n",
    "import pandas as pd\n",
    "import matplotlib.pyplot as pl\n",
    "import tensorflow as tf\n",
    "%matplotlib inline\n",
    "\n",
    "\n",
    "import seaborn as sb\n",
    "\n",
    "#read and randomly shuffle data\n",
    "winequality = pd.read_csv('winequality-white.csv', sep=';')\n",
    "\n",
    "winequality = winequality.values\n",
    "winequality = winequality[np.random.permutation(winequality.shape[0]),:]\n",
    "\n",
    "#80% - 20% split for the training and testing sets\n",
    "tr_set_size = int(len(winequality)*0.8)\n",
    "\n",
    "#assign train and test sets (in your experiments, you want to do cross-validation)\n",
    "X_tr = winequality[0:tr_set_size,:11]\n",
    "y_tr = winequality[0:tr_set_size,11]\n",
    "X_test = winequality[tr_set_size:,:11]\n",
    "y_test = winequality[tr_set_size:,11]\n",
    "\n",
    "winequality_csv = pd.read_csv('winequality-white.csv', sep=';')\n",
    "\n",
    "#check the information of the dataset\n",
    "winequality_csv.head()\n",
    "winequality_csv.info()\n",
    "winequality_csv.describe()\n"
   ]
  },
  {
   "cell_type": "code",
   "execution_count": null,
   "id": "c66e6306",
   "metadata": {
    "scrolled": true
   },
   "outputs": [],
   "source": []
  },
  {
   "cell_type": "code",
   "execution_count": 7,
   "id": "13021936",
   "metadata": {
    "scrolled": true
   },
   "outputs": [
    {
     "data": {
      "image/png": "[encoded data removed]",
      "text/plain": [
       "<Figure size 1440x1440 with 12 Axes>"
      ]
     },
     "metadata": {
      "needs_background": "light"
     },
     "output_type": "display_data"
    }
   ],
   "source": [
    "#Use of graphics for a better understanding of the data\n",
    "\n",
    "winequality_csv.hist(bins=50,figsize=(20,20))\n",
    "# display histogram\n",
    "pl.show()"
   ]
  },
  {
   "cell_type": "code",
   "execution_count": 8,
   "id": "d6b7b0cf",
   "metadata": {},
   "outputs": [
    {
     "data": {
      "text/plain": [
       "Text(0, 0.5, 'alcohol')"
      ]
     },
     "execution_count": 8,
     "metadata": {},
     "output_type": "execute_result"
    },
    {
     "data": {
      "image/png": "[encoded data removed]",
      "text/plain": [
       "<Figure size 1440x432 with 1 Axes>"
      ]
     },
     "metadata": {
      "needs_background": "light"
     },
     "output_type": "display_data"
    }
   ],
   "source": [
    "#\n",
    "pl.figure(figsize=[20,6])\n",
    "pl.bar(winequality_csv['quality'],winequality_csv['alcohol'],color='blue')\n",
    "pl.xlabel('quality')\n",
    "#label y-axis\n",
    "pl.ylabel('alcohol')"
   ]
  },
  {
   "cell_type": "markdown",
   "id": "7a6c3214",
   "metadata": {},
   "source": [
    "#Using a heatmap helps us to see if there are any values which do not affect the quality of the wine, or which ones affects it most, and understand the correlation between columns. I choose to use seaborn as I found more information about it"
   ]
  },
  {
   "cell_type": "code",
   "execution_count": 9,
   "id": "052d7de9",
   "metadata": {
    "scrolled": false
   },
   "outputs": [
    {
     "data": {
      "text/plain": [
       "<AxesSubplot:>"
      ]
     },
     "execution_count": 9,
     "metadata": {},
     "output_type": "execute_result"
    },
    {
     "data": {
      "image/png": "[encoded data removed]",
      "text/plain": [
       "<Figure size 1440x720 with 2 Axes>"
      ]
     },
     "metadata": {
      "needs_background": "light"
     },
     "output_type": "display_data"
    }
   ],
   "source": [
    "# ploting heatmap\n",
    "pl.figure(figsize=[20,10])\n",
    "sb.heatmap(winequality_csv.corr(),annot=True)"
   ]
  },
  {
   "cell_type": "markdown",
   "id": "41eb6ebf",
   "metadata": {},
   "source": [
    "As the correlations with 'quality' are very low we can gather that the quality of the white wine might be a subjective factor, so the models might not be very succesfull. As we can see, there is a negative correlation between density and alcohol. So we can take one of them off from running the models. This is because as the have a similar correlation, they affect on the model´s accuracy on a similar way"
   ]
  },
  {
   "cell_type": "code",
   "execution_count": 10,
   "id": "cf12baa6",
   "metadata": {},
   "outputs": [
    {
     "name": "stdout",
     "output_type": "stream",
     "text": [
      "density\n",
      "alcohol\n"
     ]
    }
   ],
   "source": [
    "for a in range(len(winequality_csv.corr().columns)):\n",
    "    for b in range(a):\n",
    "        if abs(winequality_csv.corr().iloc[a,b]) >0.7:\n",
    "            name = winequality_csv.corr().columns[a]\n",
    "            print(name)"
   ]
  },
  {
   "cell_type": "code",
   "execution_count": 11,
   "id": "e1419dd1",
   "metadata": {},
   "outputs": [],
   "source": [
    "new_winequality_csv=winequality_csv.drop('density',axis=1)"
   ]
  },
  {
   "cell_type": "markdown",
   "id": "1f8f2b71",
   "metadata": {},
   "source": [
    "We check if there are null values wich might affect the models."
   ]
  },
  {
   "cell_type": "code",
   "execution_count": 12,
   "id": "8bc9d9d6",
   "metadata": {},
   "outputs": [
    {
     "name": "stdout",
     "output_type": "stream",
     "text": [
      "NULL VALUES: \n",
      " fixed acidity           0\n",
      "volatile acidity        0\n",
      "citric acid             0\n",
      "residual sugar          0\n",
      "chlorides               0\n",
      "free sulfur dioxide     0\n",
      "total sulfur dioxide    0\n",
      "pH                      0\n",
      "sulphates               0\n",
      "alcohol                 0\n",
      "quality                 0\n",
      "dtype: int64\n",
      "\n",
      " Total null values: \n",
      " 0\n"
     ]
    }
   ],
   "source": [
    "new_winequality_csv.isnull().sum()\n",
    "\n",
    "print('NULL VALUES: \\n', new_winequality_csv.isnull().sum())\n",
    "print('\\n Total null values: \\n', new_winequality_csv.isnull().sum().sum())"
   ]
  },
  {
   "cell_type": "markdown",
   "id": "93f322f5",
   "metadata": {},
   "source": [
    "There are no null numbers on our datasheet, but if there were, we could just fill that gap with the mean of the column it belongs to, so that null (0) number would not affect the others in the model."
   ]
  },
  {
   "cell_type": "code",
   "execution_count": 13,
   "id": "4774c581",
   "metadata": {},
   "outputs": [],
   "source": [
    "new_winequality_csv.update(new_winequality_csv.fillna(new_winequality_csv.mean()))"
   ]
  },
  {
   "cell_type": "markdown",
   "id": "c45c56dc",
   "metadata": {
    "scrolled": false
   },
   "source": [
    "We can also see that the category which is more related with the quality of the wine is 'alcohol', so this category will affect the model more\n"
   ]
  },
  {
   "cell_type": "code",
   "execution_count": 14,
   "id": "c64973bd",
   "metadata": {},
   "outputs": [
    {
     "data": {
      "text/plain": [
       "Text(0, 0.5, 'alcohol')"
      ]
     },
     "execution_count": 14,
     "metadata": {},
     "output_type": "execute_result"
    },
    {
     "data": {
      "image/png": "[encoded data removed]",
      "text/plain": [
       "<Figure size 1440x432 with 1 Axes>"
      ]
     },
     "metadata": {
      "needs_background": "light"
     },
     "output_type": "display_data"
    }
   ],
   "source": [
    "\n",
    "pl.figure(figsize=[20,6])\n",
    "pl.bar(new_winequality_csv['quality'],new_winequality_csv['alcohol'],color='blue')\n",
    "pl.xlabel('quality')\n",
    "#label y-axis\n",
    "pl.ylabel('alcohol')\n",
    "\n"
   ]
  },
  {
   "cell_type": "code",
   "execution_count": 15,
   "id": "cc72978a",
   "metadata": {},
   "outputs": [
    {
     "data": {
      "text/plain": [
       "<AxesSubplot:xlabel='quality', ylabel='alcohol'>"
      ]
     },
     "execution_count": 15,
     "metadata": {},
     "output_type": "execute_result"
    },
    {
     "data": {
      "image/png": "[encoded data removed]",
      "text/plain": [
       "<Figure size 1440x720 with 1 Axes>"
      ]
     },
     "metadata": {
      "needs_background": "light"
     },
     "output_type": "display_data"
    }
   ],
   "source": [
    "pl.figure(figsize=[20,10])\n",
    "sb.boxplot(x='quality', y='alcohol', data = new_winequality_csv)"
   ]
  },
  {
   "cell_type": "markdown",
   "id": "167c62f2",
   "metadata": {},
   "source": [
    " As we can see alcohol has a negative relationship on the lower qualities but a positive relation on the higher ones."
   ]
  },
  {
   "cell_type": "markdown",
   "id": "08cb64ed",
   "metadata": {},
   "source": [
    "The values of 'quality' go from 3 to 9, so I encoded the 'quality' to go from 0 to 6."
   ]
  },
  {
   "cell_type": "code",
   "execution_count": 16,
   "id": "2b57c7de",
   "metadata": {},
   "outputs": [
    {
     "data": {
      "text/plain": [
       "{0: 3, 1: 4, 2: 5, 3: 6, 4: 7, 5: 8, 6: 9}"
      ]
     },
     "execution_count": 16,
     "metadata": {},
     "output_type": "execute_result"
    }
   ],
   "source": [
    "from sklearn.preprocessing import LabelEncoder\n",
    "encoder = LabelEncoder()\n",
    "\n",
    "new_winequality_csv['quality'] = encoder.fit_transform(new_winequality_csv['quality'])\n",
    "{index: label for index, label in enumerate(encoder.classes_)}"
   ]
  },
  {
   "cell_type": "markdown",
   "id": "0428cba9",
   "metadata": {},
   "source": [
    "We divide our data into the correct form, two different variables: the result (quality) and the rest of the columns"
   ]
  },
  {
   "cell_type": "code",
   "execution_count": 17,
   "id": "3802706b",
   "metadata": {},
   "outputs": [
    {
     "data": {
      "text/plain": [
       "0       3\n",
       "1       3\n",
       "2       3\n",
       "3       3\n",
       "4       3\n",
       "       ..\n",
       "4893    3\n",
       "4894    2\n",
       "4895    3\n",
       "4896    4\n",
       "4897    3\n",
       "Name: quality, Length: 4898, dtype: int64"
      ]
     },
     "execution_count": 17,
     "metadata": {},
     "output_type": "execute_result"
    }
   ],
   "source": [
    "y = new_winequality_csv['quality']\n",
    "X = new_winequality_csv.drop('quality', axis = 1)\n",
    "y"
   ]
  },
  {
   "cell_type": "markdown",
   "id": "7b3ceb4b",
   "metadata": {},
   "source": [
    "Scaling the data to ensure that any feature does not have more importance than others.Now, our data will be standard normally distributed data: zero mean and unit variance."
   ]
  },
  {
   "cell_type": "code",
   "execution_count": 18,
   "id": "9b036b87",
   "metadata": {},
   "outputs": [],
   "source": [
    "from sklearn.preprocessing import StandardScaler\n",
    "scaler = StandardScaler()\n",
    "X = pd.DataFrame(scaler.fit_transform(X), columns=X.columns)"
   ]
  },
  {
   "cell_type": "code",
   "execution_count": 19,
   "id": "c28beeb4",
   "metadata": {
    "scrolled": true
   },
   "outputs": [
    {
     "data": {
      "text/html": [
       "<div>\n",
       "<style scoped>\n",
       "    .dataframe tbody tr th:only-of-type {\n",
       "        vertical-align: middle;\n",
       "    }\n",
       "\n",
       "    .dataframe tbody tr th {\n",
       "        vertical-align: top;\n",
       "    }\n",
       "\n",
       "    .dataframe thead th {\n",
       "        text-align: right;\n",
       "    }\n",
       "</style>\n",
       "<table border=\"1\" class=\"dataframe\">\n",
       "  <thead>\n",
       "    <tr style=\"text-align: right;\">\n",
       "      <th></th>\n",
       "      <th>fixed acidity</th>\n",
       "      <th>volatile acidity</th>\n",
       "      <th>citric acid</th>\n",
       "      <th>residual sugar</th>\n",
       "      <th>chlorides</th>\n",
       "      <th>free sulfur dioxide</th>\n",
       "      <th>total sulfur dioxide</th>\n",
       "      <th>pH</th>\n",
       "      <th>sulphates</th>\n",
       "      <th>alcohol</th>\n",
       "    </tr>\n",
       "  </thead>\n",
       "  <tbody>\n",
       "    <tr>\n",
       "      <th>0</th>\n",
       "      <td>0.172097</td>\n",
       "      <td>-0.081770</td>\n",
       "      <td>0.213280</td>\n",
       "      <td>2.821349</td>\n",
       "      <td>-0.035355</td>\n",
       "      <td>0.569932</td>\n",
       "      <td>0.744565</td>\n",
       "      <td>-1.246921</td>\n",
       "      <td>-0.349184</td>\n",
       "      <td>-1.393152</td>\n",
       "    </tr>\n",
       "    <tr>\n",
       "      <th>1</th>\n",
       "      <td>-0.657501</td>\n",
       "      <td>0.215896</td>\n",
       "      <td>0.048001</td>\n",
       "      <td>-0.944765</td>\n",
       "      <td>0.147747</td>\n",
       "      <td>-1.253019</td>\n",
       "      <td>-0.149685</td>\n",
       "      <td>0.740029</td>\n",
       "      <td>0.001342</td>\n",
       "      <td>-0.824276</td>\n",
       "    </tr>\n",
       "    <tr>\n",
       "      <th>2</th>\n",
       "      <td>1.475751</td>\n",
       "      <td>0.017452</td>\n",
       "      <td>0.543838</td>\n",
       "      <td>0.100282</td>\n",
       "      <td>0.193523</td>\n",
       "      <td>-0.312141</td>\n",
       "      <td>-0.973336</td>\n",
       "      <td>0.475102</td>\n",
       "      <td>-0.436816</td>\n",
       "      <td>-0.336667</td>\n",
       "    </tr>\n",
       "    <tr>\n",
       "      <th>3</th>\n",
       "      <td>0.409125</td>\n",
       "      <td>-0.478657</td>\n",
       "      <td>-0.117278</td>\n",
       "      <td>0.415768</td>\n",
       "      <td>0.559727</td>\n",
       "      <td>0.687541</td>\n",
       "      <td>1.121091</td>\n",
       "      <td>0.011480</td>\n",
       "      <td>-0.787342</td>\n",
       "      <td>-0.499203</td>\n",
       "    </tr>\n",
       "    <tr>\n",
       "      <th>4</th>\n",
       "      <td>0.409125</td>\n",
       "      <td>-0.478657</td>\n",
       "      <td>-0.117278</td>\n",
       "      <td>0.415768</td>\n",
       "      <td>0.559727</td>\n",
       "      <td>0.687541</td>\n",
       "      <td>1.121091</td>\n",
       "      <td>0.011480</td>\n",
       "      <td>-0.787342</td>\n",
       "      <td>-0.499203</td>\n",
       "    </tr>\n",
       "    <tr>\n",
       "      <th>...</th>\n",
       "      <td>...</td>\n",
       "      <td>...</td>\n",
       "      <td>...</td>\n",
       "      <td>...</td>\n",
       "      <td>...</td>\n",
       "      <td>...</td>\n",
       "      <td>...</td>\n",
       "      <td>...</td>\n",
       "      <td>...</td>\n",
       "      <td>...</td>\n",
       "    </tr>\n",
       "    <tr>\n",
       "      <th>4893</th>\n",
       "      <td>-0.776015</td>\n",
       "      <td>-0.677101</td>\n",
       "      <td>-0.365197</td>\n",
       "      <td>-0.944765</td>\n",
       "      <td>-0.310008</td>\n",
       "      <td>-0.664970</td>\n",
       "      <td>-1.091000</td>\n",
       "      <td>0.541334</td>\n",
       "      <td>0.088973</td>\n",
       "      <td>0.557282</td>\n",
       "    </tr>\n",
       "    <tr>\n",
       "      <th>4894</th>\n",
       "      <td>-0.301959</td>\n",
       "      <td>0.414339</td>\n",
       "      <td>0.213280</td>\n",
       "      <td>0.317179</td>\n",
       "      <td>0.056196</td>\n",
       "      <td>1.275590</td>\n",
       "      <td>0.697499</td>\n",
       "      <td>-0.253446</td>\n",
       "      <td>-0.261553</td>\n",
       "      <td>-0.743008</td>\n",
       "    </tr>\n",
       "    <tr>\n",
       "      <th>4895</th>\n",
       "      <td>-0.420473</td>\n",
       "      <td>-0.379435</td>\n",
       "      <td>-1.191592</td>\n",
       "      <td>-1.023637</td>\n",
       "      <td>-0.218457</td>\n",
       "      <td>-0.312141</td>\n",
       "      <td>-0.643875</td>\n",
       "      <td>-1.313153</td>\n",
       "      <td>-0.261553</td>\n",
       "      <td>-0.905544</td>\n",
       "    </tr>\n",
       "    <tr>\n",
       "      <th>4896</th>\n",
       "      <td>-1.605613</td>\n",
       "      <td>0.116674</td>\n",
       "      <td>-0.282557</td>\n",
       "      <td>-1.043355</td>\n",
       "      <td>-1.088192</td>\n",
       "      <td>-0.900190</td>\n",
       "      <td>-0.667408</td>\n",
       "      <td>1.004955</td>\n",
       "      <td>-0.962605</td>\n",
       "      <td>1.857572</td>\n",
       "    </tr>\n",
       "    <tr>\n",
       "      <th>4897</th>\n",
       "      <td>-1.013043</td>\n",
       "      <td>-0.677101</td>\n",
       "      <td>0.378559</td>\n",
       "      <td>-1.102508</td>\n",
       "      <td>-1.179743</td>\n",
       "      <td>-0.782580</td>\n",
       "      <td>-0.949803</td>\n",
       "      <td>0.475102</td>\n",
       "      <td>-1.488394</td>\n",
       "      <td>1.044891</td>\n",
       "    </tr>\n",
       "  </tbody>\n",
       "</table>\n",
       "<p>4898 rows × 10 columns</p>\n",
       "</div>"
      ],
      "text/plain": [
       "      fixed acidity  volatile acidity  citric acid  residual sugar  chlorides  \\\n",
       "0          0.172097         -0.081770     0.213280        2.821349  -0.035355   \n",
       "1         -0.657501          0.215896     0.048001       -0.944765   0.147747   \n",
       "2          1.475751          0.017452     0.543838        0.100282   0.193523   \n",
       "3          0.409125         -0.478657    -0.117278        0.415768   0.559727   \n",
       "4          0.409125         -0.478657    -0.117278        0.415768   0.559727   \n",
       "...             ...               ...          ...             ...        ...   \n",
       "4893      -0.776015         -0.677101    -0.365197       -0.944765  -0.310008   \n",
       "4894      -0.301959          0.414339     0.213280        0.317179   0.056196   \n",
       "4895      -0.420473         -0.379435    -1.191592       -1.023637  -0.218457   \n",
       "4896      -1.605613          0.116674    -0.282557       -1.043355  -1.088192   \n",
       "4897      -1.013043         -0.677101     0.378559       -1.102508  -1.179743   \n",
       "\n",
       "      free sulfur dioxide  total sulfur dioxide        pH  sulphates   alcohol  \n",
       "0                0.569932              0.744565 -1.246921  -0.349184 -1.393152  \n",
       "1               -1.253019             -0.149685  0.740029   0.001342 -0.824276  \n",
       "2               -0.312141             -0.973336  0.475102  -0.436816 -0.336667  \n",
       "3                0.687541              1.121091  0.011480  -0.787342 -0.499203  \n",
       "4                0.687541              1.121091  0.011480  -0.787342 -0.499203  \n",
       "...                   ...                   ...       ...        ...       ...  \n",
       "4893            -0.664970             -1.091000  0.541334   0.088973  0.557282  \n",
       "4894             1.275590              0.697499 -0.253446  -0.261553 -0.743008  \n",
       "4895            -0.312141             -0.643875 -1.313153  -0.261553 -0.905544  \n",
       "4896            -0.900190             -0.667408  1.004955  -0.962605  1.857572  \n",
       "4897            -0.782580             -0.949803  0.475102  -1.488394  1.044891  \n",
       "\n",
       "[4898 rows x 10 columns]"
      ]
     },
     "execution_count": 19,
     "metadata": {},
     "output_type": "execute_result"
    }
   ],
   "source": [
    "X"
   ]
  },
  {
   "cell_type": "markdown",
   "id": "6981a424",
   "metadata": {},
   "source": [
    "I divided the data into training sets (80%) and testing sets (20%)"
   ]
  },
  {
   "cell_type": "code",
   "execution_count": 20,
   "id": "3efd5e32",
   "metadata": {},
   "outputs": [],
   "source": [
    "from sklearn.model_selection import train_test_split\n",
    "X_train, X_test, y_train, y_test = train_test_split(X, y, train_size = 0.8)"
   ]
  },
  {
   "cell_type": "markdown",
   "id": "34460d44",
   "metadata": {},
   "source": [
    "As we are going to use different models, we replicate our data"
   ]
  },
  {
   "cell_type": "code",
   "execution_count": 21,
   "id": "c53c56f7",
   "metadata": {},
   "outputs": [],
   "source": [
    "import copy\n",
    "X_trainN = copy.deepcopy(X_train)\n",
    "X_testN = copy.deepcopy(X_test)\n",
    "y_trainN = copy.deepcopy(y_train)\n",
    "y_testN = copy.deepcopy(y_train)"
   ]
  },
  {
   "cell_type": "markdown",
   "id": "88653508",
   "metadata": {},
   "source": [
    "# Model 1: Artificial Neural Network"
   ]
  },
  {
   "cell_type": "code",
   "execution_count": 22,
   "id": "0842fdb0",
   "metadata": {},
   "outputs": [
    {
     "data": {
      "text/plain": [
       "10"
      ]
     },
     "execution_count": 22,
     "metadata": {},
     "output_type": "execute_result"
    }
   ],
   "source": [
    "#Training\n",
    "columns = X.shape[1] #Number of columns (X = data)\n",
    "columns"
   ]
  },
  {
   "cell_type": "code",
   "execution_count": 23,
   "id": "2f1bb084",
   "metadata": {},
   "outputs": [
    {
     "data": {
      "text/plain": [
       "7"
      ]
     },
     "execution_count": 23,
     "metadata": {},
     "output_type": "execute_result"
    }
   ],
   "source": [
    "qualityValues = y.unique()\n",
    "nValues = len(qualityValues) #Number of different Values (0-6)\n",
    "nValues"
   ]
  },
  {
   "cell_type": "code",
   "execution_count": 24,
   "id": "5c7d230c",
   "metadata": {},
   "outputs": [
    {
     "name": "stdout",
     "output_type": "stream",
     "text": [
      "Epoch 1/130\n",
      "98/98 [==============================] - 2s 4ms/step - loss: 1.7197 - accuracy: 0.3660 - val_loss: 1.5245 - val_accuracy: 0.4732\n",
      "Epoch 2/130\n",
      "98/98 [==============================] - 0s 3ms/step - loss: 1.4245 - accuracy: 0.4652 - val_loss: 1.3336 - val_accuracy: 0.4911\n",
      "Epoch 3/130\n",
      "98/98 [==============================] - 0s 2ms/step - loss: 1.2904 - accuracy: 0.4860 - val_loss: 1.2386 - val_accuracy: 0.5038\n",
      "Epoch 4/130\n",
      "98/98 [==============================] - 0s 2ms/step - loss: 1.2239 - accuracy: 0.5038 - val_loss: 1.1910 - val_accuracy: 0.5153\n",
      "Epoch 5/130\n",
      "98/98 [==============================] - 0s 3ms/step - loss: 1.1880 - accuracy: 0.5172 - val_loss: 1.1627 - val_accuracy: 0.5230\n",
      "Epoch 6/130\n",
      "98/98 [==============================] - 0s 2ms/step - loss: 1.1646 - accuracy: 0.5236 - val_loss: 1.1430 - val_accuracy: 0.5357\n",
      "Epoch 7/130\n",
      "98/98 [==============================] - 0s 2ms/step - loss: 1.1473 - accuracy: 0.5338 - val_loss: 1.1269 - val_accuracy: 0.5536\n",
      "Epoch 8/130\n",
      "98/98 [==============================] - 0s 2ms/step - loss: 1.1330 - accuracy: 0.5421 - val_loss: 1.1138 - val_accuracy: 0.5485\n",
      "Epoch 9/130\n",
      "98/98 [==============================] - 0s 2ms/step - loss: 1.1219 - accuracy: 0.5421 - val_loss: 1.1043 - val_accuracy: 0.5548\n",
      "Epoch 10/130\n",
      "98/98 [==============================] - 0s 2ms/step - loss: 1.1114 - accuracy: 0.5431 - val_loss: 1.0947 - val_accuracy: 0.5599\n",
      "Epoch 11/130\n",
      "98/98 [==============================] - 0s 2ms/step - loss: 1.1033 - accuracy: 0.5501 - val_loss: 1.0871 - val_accuracy: 0.5548\n",
      "Epoch 12/130\n",
      "98/98 [==============================] - ETA: 0s - loss: 1.0952 - accuracy: 0.55 - 0s 2ms/step - loss: 1.0950 - accuracy: 0.5498 - val_loss: 1.0816 - val_accuracy: 0.5625\n",
      "Epoch 13/130\n",
      "98/98 [==============================] - 0s 2ms/step - loss: 1.0885 - accuracy: 0.5488 - val_loss: 1.0756 - val_accuracy: 0.5523\n",
      "Epoch 14/130\n",
      "98/98 [==============================] - 0s 2ms/step - loss: 1.0825 - accuracy: 0.5530 - val_loss: 1.0703 - val_accuracy: 0.5638\n",
      "Epoch 15/130\n",
      "98/98 [==============================] - 0s 2ms/step - loss: 1.0769 - accuracy: 0.5469 - val_loss: 1.0648 - val_accuracy: 0.5638\n",
      "Epoch 16/130\n",
      "98/98 [==============================] - 0s 3ms/step - loss: 1.0713 - accuracy: 0.5574 - val_loss: 1.0606 - val_accuracy: 0.5625\n",
      "Epoch 17/130\n",
      "98/98 [==============================] - 0s 2ms/step - loss: 1.0663 - accuracy: 0.5571 - val_loss: 1.0589 - val_accuracy: 0.5548\n",
      "Epoch 18/130\n",
      "98/98 [==============================] - 0s 2ms/step - loss: 1.0643 - accuracy: 0.5520 - val_loss: 1.0542 - val_accuracy: 0.5663\n",
      "Epoch 19/130\n",
      "98/98 [==============================] - 0s 2ms/step - loss: 1.0590 - accuracy: 0.5562 - val_loss: 1.0507 - val_accuracy: 0.5689\n",
      "Epoch 20/130\n",
      "98/98 [==============================] - 0s 2ms/step - loss: 1.0551 - accuracy: 0.5568 - val_loss: 1.0486 - val_accuracy: 0.5625\n",
      "Epoch 21/130\n",
      "98/98 [==============================] - 0s 2ms/step - loss: 1.0524 - accuracy: 0.5542 - val_loss: 1.0460 - val_accuracy: 0.5714\n",
      "Epoch 22/130\n",
      "98/98 [==============================] - 0s 2ms/step - loss: 1.0485 - accuracy: 0.5578 - val_loss: 1.0427 - val_accuracy: 0.5689\n",
      "Epoch 23/130\n",
      "98/98 [==============================] - 0s 2ms/step - loss: 1.0458 - accuracy: 0.5600 - val_loss: 1.0414 - val_accuracy: 0.5740\n",
      "Epoch 24/130\n",
      "98/98 [==============================] - 0s 2ms/step - loss: 1.0426 - accuracy: 0.5587 - val_loss: 1.0398 - val_accuracy: 0.5714\n",
      "Epoch 25/130\n",
      "98/98 [==============================] - 0s 2ms/step - loss: 1.0403 - accuracy: 0.5609 - val_loss: 1.0382 - val_accuracy: 0.5689\n",
      "Epoch 26/130\n",
      "98/98 [==============================] - 0s 2ms/step - loss: 1.0378 - accuracy: 0.5613 - val_loss: 1.0368 - val_accuracy: 0.5702\n",
      "Epoch 27/130\n",
      "98/98 [==============================] - 0s 2ms/step - loss: 1.0343 - accuracy: 0.5641 - val_loss: 1.0339 - val_accuracy: 0.5638\n",
      "Epoch 28/130\n",
      "98/98 [==============================] - 0s 2ms/step - loss: 1.0328 - accuracy: 0.5619 - val_loss: 1.0328 - val_accuracy: 0.5689\n",
      "Epoch 29/130\n",
      "98/98 [==============================] - 0s 2ms/step - loss: 1.0308 - accuracy: 0.5632 - val_loss: 1.0317 - val_accuracy: 0.5714\n",
      "Epoch 30/130\n",
      "98/98 [==============================] - 0s 2ms/step - loss: 1.0291 - accuracy: 0.5648 - val_loss: 1.0310 - val_accuracy: 0.5727\n",
      "Epoch 31/130\n",
      "98/98 [==============================] - 0s 2ms/step - loss: 1.0268 - accuracy: 0.5657 - val_loss: 1.0290 - val_accuracy: 0.5612\n",
      "Epoch 32/130\n",
      "98/98 [==============================] - 0s 2ms/step - loss: 1.0242 - accuracy: 0.5660 - val_loss: 1.0280 - val_accuracy: 0.5663\n",
      "Epoch 33/130\n",
      "98/98 [==============================] - 0s 3ms/step - loss: 1.0224 - accuracy: 0.5673 - val_loss: 1.0265 - val_accuracy: 0.5727\n",
      "Epoch 34/130\n",
      "98/98 [==============================] - 0s 2ms/step - loss: 1.0206 - accuracy: 0.5654 - val_loss: 1.0257 - val_accuracy: 0.5714\n",
      "Epoch 35/130\n",
      "98/98 [==============================] - 0s 2ms/step - loss: 1.0188 - accuracy: 0.5654 - val_loss: 1.0256 - val_accuracy: 0.5625\n",
      "Epoch 36/130\n",
      "98/98 [==============================] - 0s 3ms/step - loss: 1.0174 - accuracy: 0.5635 - val_loss: 1.0241 - val_accuracy: 0.5651\n",
      "Epoch 37/130\n",
      "98/98 [==============================] - 0s 2ms/step - loss: 1.0158 - accuracy: 0.5702 - val_loss: 1.0244 - val_accuracy: 0.5663\n",
      "Epoch 38/130\n",
      "98/98 [==============================] - 0s 3ms/step - loss: 1.0136 - accuracy: 0.5638 - val_loss: 1.0245 - val_accuracy: 0.5702\n",
      "Epoch 39/130\n",
      "98/98 [==============================] - 0s 3ms/step - loss: 1.0125 - accuracy: 0.5721 - val_loss: 1.0224 - val_accuracy: 0.5625\n",
      "Epoch 40/130\n",
      "98/98 [==============================] - 0s 3ms/step - loss: 1.0104 - accuracy: 0.5664 - val_loss: 1.0227 - val_accuracy: 0.5714\n",
      "Epoch 41/130\n",
      "98/98 [==============================] - 0s 2ms/step - loss: 1.0095 - accuracy: 0.5699 - val_loss: 1.0228 - val_accuracy: 0.5778\n",
      "Epoch 42/130\n",
      "98/98 [==============================] - 0s 3ms/step - loss: 1.0080 - accuracy: 0.5705 - val_loss: 1.0212 - val_accuracy: 0.5727\n",
      "Epoch 43/130\n",
      "98/98 [==============================] - 0s 2ms/step - loss: 1.0062 - accuracy: 0.5740 - val_loss: 1.0220 - val_accuracy: 0.5651\n",
      "Epoch 44/130\n",
      "98/98 [==============================] - 0s 3ms/step - loss: 1.0053 - accuracy: 0.5696 - val_loss: 1.0204 - val_accuracy: 0.5727\n",
      "Epoch 45/130\n",
      "98/98 [==============================] - 0s 2ms/step - loss: 1.0038 - accuracy: 0.5715 - val_loss: 1.0201 - val_accuracy: 0.5689\n",
      "Epoch 46/130\n",
      "98/98 [==============================] - 0s 3ms/step - loss: 1.0020 - accuracy: 0.5785 - val_loss: 1.0215 - val_accuracy: 0.5663\n",
      "Epoch 47/130\n",
      "98/98 [==============================] - 0s 2ms/step - loss: 1.0007 - accuracy: 0.5747 - val_loss: 1.0195 - val_accuracy: 0.5702\n",
      "Epoch 48/130\n",
      "98/98 [==============================] - 0s 2ms/step - loss: 0.9997 - accuracy: 0.5763 - val_loss: 1.0195 - val_accuracy: 0.5765\n",
      "Epoch 49/130\n",
      "98/98 [==============================] - 0s 3ms/step - loss: 0.9984 - accuracy: 0.5759 - val_loss: 1.0194 - val_accuracy: 0.5625\n",
      "Epoch 50/130\n",
      "98/98 [==============================] - 0s 3ms/step - loss: 0.9974 - accuracy: 0.5731 - val_loss: 1.0195 - val_accuracy: 0.5638\n",
      "Epoch 51/130\n",
      "98/98 [==============================] - 0s 3ms/step - loss: 0.9956 - accuracy: 0.5775 - val_loss: 1.0185 - val_accuracy: 0.5676\n",
      "Epoch 52/130\n",
      "98/98 [==============================] - 0s 2ms/step - loss: 0.9954 - accuracy: 0.5753 - val_loss: 1.0172 - val_accuracy: 0.5599\n",
      "Epoch 53/130\n",
      "98/98 [==============================] - 0s 3ms/step - loss: 0.9938 - accuracy: 0.5743 - val_loss: 1.0176 - val_accuracy: 0.5638\n",
      "Epoch 54/130\n",
      "98/98 [==============================] - 0s 2ms/step - loss: 0.9925 - accuracy: 0.5769 - val_loss: 1.0175 - val_accuracy: 0.5765\n",
      "Epoch 55/130\n",
      "98/98 [==============================] - 0s 3ms/step - loss: 0.9914 - accuracy: 0.5788 - val_loss: 1.0174 - val_accuracy: 0.5702\n",
      "Epoch 56/130\n",
      "98/98 [==============================] - 0s 2ms/step - loss: 0.9901 - accuracy: 0.5810 - val_loss: 1.0175 - val_accuracy: 0.5727\n"
     ]
    }
   ],
   "source": [
    "#ARTIFICIAL NEURAL NETWORK using TensorFlow\n",
    "\n",
    "#This model has been optimized with different parameters, the following ones have worked best\n",
    "\n",
    "input = tf.keras.Input(shape=(columns,))\n",
    "x = tf.keras.layers.Dense(32, activation = 'relu' )(input)\n",
    "x = tf.keras.layers.Dense(16, activation = 'relu' )(x)\n",
    "\n",
    "output = tf.keras.layers.Dense(nValues, activation = 'softmax')(x)\n",
    "\n",
    "model = tf.keras.Model(inputs = input, outputs = output)\n",
    "\n",
    "model.compile(loss='sparse_categorical_crossentropy',optimizer='Adamax', metrics=['accuracy'])\n",
    "\n",
    "es_callback = tf.keras.callbacks.EarlyStopping(monitor='val_loss', patience=4)\n",
    "history = model.fit(X_trainN, y_trainN, epochs=130, validation_split=0.2, callbacks=[es_callback])\n",
    "\n"
   ]
  },
  {
   "cell_type": "code",
   "execution_count": 25,
   "id": "44c1dec0",
   "metadata": {},
   "outputs": [
    {
     "name": "stdout",
     "output_type": "stream",
     "text": [
      "31/31 - 0s - loss: 1.1586 - accuracy: 0.5316 - 143ms/epoch - 5ms/step\n"
     ]
    }
   ],
   "source": [
    "ANN_loss, ANN_acc = model.evaluate(X_test, y_test, verbose = 2)\n",
    "\n"
   ]
  },
  {
   "cell_type": "markdown",
   "id": "06d76a93",
   "metadata": {},
   "source": [
    "We could only obtain an accuracy of 53% , so ANN is not a good classifier algorithm for this dataset. (In this case more epochs do not mean more accuracy or less error.\n",
    "As we can observe, the difference between \"accuracy\" and \"val_accuracy\" is big. This means our model has \"learned the data too well\". To solve this, I added several parameters to the ANN, like the EarlyStopping callback (because after validation loss increases, the model will only get worse). I simplified the model (to only 2 hidden layers of 64 neurons) to decrease the complexity. I also tried to add a Dropout layer, so there would be more \"luck\" as some connections would drop, but this did not work."
   ]
  },
  {
   "cell_type": "code",
   "execution_count": 26,
   "id": "bf3a4c85",
   "metadata": {},
   "outputs": [
    {
     "data": {
      "text/plain": [
       "[<matplotlib.lines.Line2D at 0x22687b6c6d0>]"
      ]
     },
     "execution_count": 26,
     "metadata": {},
     "output_type": "execute_result"
    },
    {
     "data": {
      "image/png": "[encoded data removed]",
      "text/plain": [
       "<Figure size 432x288 with 1 Axes>"
      ]
     },
     "metadata": {
      "needs_background": "light"
     },
     "output_type": "display_data"
    }
   ],
   "source": [
    "pl.xlabel(\"# Iteration\")\n",
    "pl.ylabel(\" Loss magnitude\")\n",
    "pl.plot(history.history[\"loss\"])"
   ]
  },
  {
   "cell_type": "markdown",
   "id": "b95e7fca",
   "metadata": {},
   "source": [
    "# MODEL 2: DECISION TREE"
   ]
  },
  {
   "cell_type": "code",
   "execution_count": 27,
   "id": "32e194ee",
   "metadata": {},
   "outputs": [
    {
     "data": {
      "text/plain": [
       "DecisionTreeClassifier(random_state=25)"
      ]
     },
     "execution_count": 27,
     "metadata": {},
     "output_type": "execute_result"
    }
   ],
   "source": [
    "from sklearn import tree\n",
    "\n",
    "#I divided the data into training sets (80%) and testing sets (20%)\n",
    "X_trainT, X_testT, y_trainT, y_testT = train_test_split(X, y, test_size=0.2, random_state=10)\n",
    "\n",
    "#This model has been optimized with different parameters, the following ones have worked best, most of the default attributes \n",
    "#worked better in this model.\n",
    "model = tree.DecisionTreeClassifier(criterion=\"gini\", splitter=\"best\" ,random_state=25, min_samples_leaf=1)\n",
    "model.fit(X_trainT, y_trainT)"
   ]
  },
  {
   "cell_type": "code",
   "execution_count": 28,
   "id": "3f0b0181",
   "metadata": {},
   "outputs": [
    {
     "name": "stdout",
     "output_type": "stream",
     "text": [
      "Accuracy: 0.6346938775510204\n"
     ]
    }
   ],
   "source": [
    "y_pred = model.predict(X_testT)\n",
    "from sklearn import metrics #Import scikit-learn metrics module for accuracy calculation\n",
    "# Model Accuracy, how often is the classifier correct?\n",
    "print(\"Accuracy:\",metrics.accuracy_score(y_testT, y_pred))\n"
   ]
  },
  {
   "cell_type": "code",
   "execution_count": 29,
   "id": "eb1f6b75",
   "metadata": {},
   "outputs": [
    {
     "name": "stdout",
     "output_type": "stream",
     "text": [
      "Force first data prediction: (might be in trained sample) [6] /6\n",
      "\n",
      " Predicting result with non-trained data\n",
      "Predicted result is:  [7]\n",
      "True quality is:  937    5\n",
      "Name: quality, dtype: int64\n"
     ]
    }
   ],
   "source": [
    "#This is a prediction of the first row of data (with  a quality of 6)\n",
    "input_data = (7,0.27,0.36,20.7,0.045,45,170,3,0.45,8.8)\n",
    "input_data_as_numpy_array = np.asarray(input_data)\n",
    "\n",
    "# reshape the data as we are predicting the label for only one instance\n",
    "input_data_reshaped = input_data_as_numpy_array.reshape(1,-1)\n",
    "\n",
    "prediction = model.predict(input_data_reshaped)\n",
    "print(\"Force first data prediction: (might be in trained sample)\",prediction+3, \"/6\")\n",
    "\n",
    "print(\"\\n Predicting result with non-trained data\")\n",
    "result = model.predict(X_testT.iloc[1:2])\n",
    "y_is = (y_testT.iloc[1:2])\n",
    "print(\"Predicted result is: \", str(result+3))\n",
    "print(\"True quality is: \",str(y_is+3))\n",
    "\n"
   ]
  },
  {
   "cell_type": "markdown",
   "id": "ee560031",
   "metadata": {},
   "source": [
    "As we can see, the model does not exactly get the same quality, but it is close to it. This model works better than ANN (62%) but still gets a poor result. If the first prediction is 6, it most probably means that this value was in the sample of test. "
   ]
  },
  {
   "cell_type": "code",
   "execution_count": 30,
   "id": "0e9cfd37",
   "metadata": {},
   "outputs": [
    {
     "data": {
      "text/plain": [
       "1.0"
      ]
     },
     "execution_count": 30,
     "metadata": {},
     "output_type": "execute_result"
    }
   ],
   "source": [
    "##Clasifier for the trained data (this accuracy is not representative) \n",
    "_test = model.predict(X_trainT)\n",
    "acc = metrics.accuracy_score(y_trainT, _test)\n",
    "acc\n",
    "#This is measuring the accuracy of the trained data, which does not reflect the accuracy with untrained data"
   ]
  },
  {
   "cell_type": "markdown",
   "id": "85a2f048",
   "metadata": {},
   "source": [
    "# MODEL 3: K Nearest Neighbour"
   ]
  },
  {
   "cell_type": "markdown",
   "id": "a2c3edbc",
   "metadata": {},
   "source": [
    "The first thing I tried is to found the best number of neighbours (k) that fits the model:"
   ]
  },
  {
   "cell_type": "code",
   "execution_count": 43,
   "id": "d749a872",
   "metadata": {},
   "outputs": [
    {
     "name": "stdout",
     "output_type": "stream",
     "text": [
      "Maximum accuracy:  0.6346938775510204 at K = 1\n"
     ]
    }
   ],
   "source": [
    "from sklearn.neighbors import KNeighborsClassifier as kn\n",
    "#I divided the data into training sets (80%) and testing sets (20%)\n",
    "X_trainNe, X_testNe, y_trainNe, y_testNe = train_test_split(X, y, test_size=0.2, random_state=20)\n",
    "\n",
    "helper = []\n",
    "for i in range(1,20):\n",
    "    numberNeighbors = kn(algorithm='auto', leaf_size=20, metric='minkowski', n_neighbors = i).fit(X_trainNe,y_trainNe)\n",
    "    prediction = numberNeighbors.predict(X_testNe)\n",
    "    helper.append(metrics.accuracy_score(y_testNe, prediction))\n",
    "\n",
    "print(\"Maximum accuracy: \",max(helper),\"at K =\", helper.index(max(helper))+1)"
   ]
  },
  {
   "cell_type": "code",
   "execution_count": 44,
   "id": "f60d5316",
   "metadata": {},
   "outputs": [
    {
     "name": "stdout",
     "output_type": "stream",
     "text": [
      "Force first data prediction:  [3] /6\n",
      "\n",
      " Predicting result with non-trained data\n",
      "Predicted result is:  [5]\n",
      "True quality is:  2540    5\n",
      "Name: quality, dtype: int64\n"
     ]
    }
   ],
   "source": [
    "N_model = kn(algorithm='auto', leaf_size=20, metric='minkowski', n_neighbors=1)\n",
    "N_model.fit(X_trainNe, y_trainNe)\n",
    "\n",
    "#This is a prediction of the first row of data (with  a quality of 6)\n",
    "input_data = (8.6,0.23,0.4,4.2,0.035,17,109,3.14,0.53,9.7)\n",
    "\n",
    "# changing the input data to a numpy array\n",
    "input_data_as_numpy_array = np.asarray(input_data)\n",
    "\n",
    "# reshape the data as we are predicting the label for only one instance\n",
    "input_data_reshaped = input_data_as_numpy_array.reshape(1,-1)\n",
    "\n",
    "prediction = N_model.predict(input_data_reshaped)\n",
    "print(\"Force first data prediction: \",prediction+3, \"/6\")\n",
    "\n",
    "\n",
    "print(\"\\n Predicting result with non-trained data\")\n",
    "result = model.predict(X_testNe.iloc[1:2])\n",
    "y_is = (y_testNe.iloc[1:2])\n",
    "print(\"Predicted result is: \", str(result+3))\n",
    "print(\"True quality is: \",str(y_is+3))\n"
   ]
  },
  {
   "cell_type": "markdown",
   "id": "7baba4da",
   "metadata": {},
   "source": [
    "The model with only one neighbour most of the times will choose a quality of \"5\", this is because the majority of the wines in the dataseet have a quality value of 6 or 5. But this is not optimal. Instead I will use a K of 5 neighbors."
   ]
  },
  {
   "cell_type": "code",
   "execution_count": 41,
   "id": "2f5970b4",
   "metadata": {},
   "outputs": [
    {
     "name": "stdout",
     "output_type": "stream",
     "text": [
      "0.564625850340136\n"
     ]
    }
   ],
   "source": [
    "#This model has been optimized with different parameters, the best results are with the following\n",
    "X_trainNe, X_testNe, y_trainNe, y_testNe = train_test_split(X, y, test_size=0.15, random_state=20)\n",
    "N_model = kn(algorithm='auto', leaf_size=20, metric='minkowski', n_neighbors=5)\n",
    "N_model.fit(X_trainNe, y_trainNe)\n",
    "print(N_model.score(X_testNe, y_testNe))"
   ]
  },
  {
   "cell_type": "code",
   "execution_count": 42,
   "id": "4438edf2",
   "metadata": {},
   "outputs": [
    {
     "name": "stdout",
     "output_type": "stream",
     "text": [
      "Force first data prediction (might be in trained sample):  [5] /6\n",
      "\n",
      " Predicting result with non-trained data\n",
      "Predicted result is:  [5]\n",
      "True quality is:  2540    5\n",
      "Name: quality, dtype: int64\n"
     ]
    }
   ],
   "source": [
    "input_data = (7,0.27,0.36,20.7,0.045,45,170,3,0.45,8.8)\n",
    "\n",
    "# changing the input data to a numpy array\n",
    "input_data_as_numpy_array = np.asarray(input_data)\n",
    "\n",
    "# reshape the data as we are predicting the label for only one instance\n",
    "input_data_reshaped = input_data_as_numpy_array.reshape(1,-1)\n",
    "\n",
    "prediction = N_model.predict(input_data_reshaped)\n",
    "print(\"Force first data prediction (might be in trained sample): \",prediction+3, \"/6\")\n",
    "\n",
    "print(\"\\n Predicting result with non-trained data\")\n",
    "result = model.predict(X_testNe.iloc[1:2])\n",
    "y_is = (y_testNe.iloc[1:2])\n",
    "print(\"Predicted result is: \", str(result+3))\n",
    "print(\"True quality is: \",str(y_is+3))\n"
   ]
  },
  {
   "cell_type": "markdown",
   "id": "3658f4b8",
   "metadata": {},
   "source": [
    "In the same way as Decision Tree, the model should not exactly get the same quality, but it is also close to it"
   ]
  },
  {
   "cell_type": "markdown",
   "id": "05de9484",
   "metadata": {},
   "source": [
    "Trying to remove several columns to create test with less variables do  not improve the model"
   ]
  },
  {
   "cell_type": "code",
   "execution_count": 45,
   "id": "f1594889",
   "metadata": {},
   "outputs": [],
   "source": [
    "new_y = new_winequality_csv['quality']\n",
    "new_X = new_winequality_csv.drop('fixed acidity', axis = 1)\n",
    "new_X = new_winequality_csv.drop('chlorides', axis = 1)\n",
    "new_X = new_winequality_csv.drop('pH', axis = 1)\n",
    "new_X = new_winequality_csv.drop('quality', axis = 1)\n"
   ]
  },
  {
   "cell_type": "code",
   "execution_count": 46,
   "id": "b394ebb7",
   "metadata": {},
   "outputs": [
    {
     "name": "stdout",
     "output_type": "stream",
     "text": [
      "0.46938775510204084\n"
     ]
    }
   ],
   "source": [
    "X_trainNe, X_testNe, y_trainNe, y_testNe = train_test_split(new_X, new_y, test_size=0.2, random_state=20)\n",
    "N_model = kn(algorithm='auto', leaf_size=20, metric='minkowski', n_neighbors=5)\n",
    "\n",
    "N_model.fit(X_trainNe, y_trainNe)\n",
    "print(N_model.score(X_testNe, y_testNe))"
   ]
  },
  {
   "cell_type": "markdown",
   "id": "79397901",
   "metadata": {},
   "source": [
    "KNearestNeighbour only has an accuracy of 56%, so it is not a good classifier algorithm for this dataset"
   ]
  },
  {
   "cell_type": "markdown",
   "id": "fed53890",
   "metadata": {},
   "source": [
    "# MODEL 4: RANDOM FOREST"
   ]
  },
  {
   "cell_type": "markdown",
   "id": "aee8e3aa",
   "metadata": {},
   "source": [
    "As the accuracy obtained with the previous models is not very high, I try to use a more complex model (Random Forest) \n",
    "based on decision trees but reducing overfitting (tend to training given data too well) "
   ]
  },
  {
   "cell_type": "code",
   "execution_count": 47,
   "id": "be63d5f3",
   "metadata": {},
   "outputs": [
    {
     "data": {
      "text/plain": [
       "RandomForestClassifier(max_depth=20, n_estimators=30, random_state=20)"
      ]
     },
     "execution_count": 47,
     "metadata": {},
     "output_type": "execute_result"
    }
   ],
   "source": [
    "###RANDOM FOREST\n",
    "from sklearn import ensemble\n",
    "#I divided the data into training sets (80%) and testing sets (20%)\n",
    "X_trainF, X_testF, y_trainF, y_testF = train_test_split(X, y, test_size=0.2, random_state=20)\n",
    "\n",
    "\n",
    "modelF = ensemble.RandomForestClassifier(random_state=20, max_depth = 20, n_estimators = 30)\n",
    "modelF.fit(X_trainF, y_trainF)"
   ]
  },
  {
   "cell_type": "code",
   "execution_count": 48,
   "id": "49863364",
   "metadata": {},
   "outputs": [
    {
     "name": "stdout",
     "output_type": "stream",
     "text": [
      "Accuracy: 0.6846938775510204\n"
     ]
    }
   ],
   "source": [
    "y_predF = modelF.predict(X_testF)\n",
    "print(\"Accuracy:\",metrics.accuracy_score(y_testF, y_predF))"
   ]
  },
  {
   "cell_type": "code",
   "execution_count": 49,
   "id": "732b28ab",
   "metadata": {},
   "outputs": [
    {
     "name": "stdout",
     "output_type": "stream",
     "text": [
      "Force first data prediction (might be in trained sample):  [6] /6\n",
      "\n",
      " Predicting result with non-trained data\n",
      "Predicted result is:  [5]\n",
      "True quality is:  2540    5\n",
      "Name: quality, dtype: int64\n"
     ]
    }
   ],
   "source": [
    "#This is a prediction of the first row of data (with  a quality of 6)\n",
    "input_data = (7,0.27,0.36,20.7,0.045,45,170,3,0.45,8.8)\n",
    "\n",
    "# changing the input data to a numpy array\n",
    "input_data_as_numpy_array = np.asarray(input_data)\n",
    "\n",
    "# reshape the data as we are predicting the label for only one instance\n",
    "input_data_reshaped = input_data_as_numpy_array.reshape(1,-1)\n",
    "\n",
    "prediction = modelF.predict(input_data_reshaped)\n",
    "print(\"Force first data prediction (might be in trained sample): \",prediction+3, \"/6\")\n",
    "\n",
    "print(\"\\n Predicting result with non-trained data\")\n",
    "result = model.predict(X_testF.iloc[1:2])\n",
    "y_is = (y_testF.iloc[1:2])\n",
    "print(\"Predicted result is: \", str(result+3))\n",
    "print(\"True quality is: \",str(y_is+3))\n",
    "\n"
   ]
  },
  {
   "cell_type": "markdown",
   "id": "0be7a218",
   "metadata": {},
   "source": [
    "Random Forest does predict better the information of the dataseet, but still does not have a very high accuracy"
   ]
  },
  {
   "cell_type": "markdown",
   "id": "07f87024",
   "metadata": {},
   "source": [
    "# MODEL 5:  Bagging classifier"
   ]
  },
  {
   "cell_type": "markdown",
   "id": "f54b3aca",
   "metadata": {},
   "source": [
    "As in Random Forest, I tried to use a more complex model wich uses base classifiers (being the base one, DecisionTree) on random subsets and finally mixing their predictions to form a final prediction. "
   ]
  },
  {
   "cell_type": "code",
   "execution_count": 50,
   "id": "49ea7b55",
   "metadata": {},
   "outputs": [
    {
     "data": {
      "text/plain": [
       "BaggingClassifier(base_estimator=DecisionTreeClassifier())"
      ]
     },
     "execution_count": 50,
     "metadata": {},
     "output_type": "execute_result"
    }
   ],
   "source": [
    "X_trainB, X_testB, y_trainB, y_testB = train_test_split(X, y, test_size=0.25, random_state=10)\n",
    "\n",
    "modelB = ensemble.BaggingClassifier(tree.DecisionTreeClassifier(),n_estimators=10)\n",
    "modelB.fit(X_trainB, y_trainB)"
   ]
  },
  {
   "cell_type": "code",
   "execution_count": 51,
   "id": "bd923b43",
   "metadata": {},
   "outputs": [
    {
     "name": "stdout",
     "output_type": "stream",
     "text": [
      "Accuracy: 0.6522448979591837\n"
     ]
    }
   ],
   "source": [
    "y_predB = modelB.predict(X_testB)\n",
    "print(\"Accuracy:\",metrics.accuracy_score(y_testB, y_predB))"
   ]
  },
  {
   "cell_type": "markdown",
   "id": "81e580ff",
   "metadata": {},
   "source": [
    "# CONCLUSION\n"
   ]
  },
  {
   "cell_type": "markdown",
   "id": "93aeda24",
   "metadata": {},
   "source": [
    "The model which worked the best for this dataset is Random Forest - 68% - , followed by Bagging Classifier - avg:66% (can differe depending on the classifiers used) -, Decision tree - 63% -, KNearest Neighbor - 56% - and Artificial Neural Network - 56%.\n",
    "\n",
    "This scores has been obtained by optimizing the model parameters settings for each model.\n",
    "\n",
    "The accuracy obtained by the models is not good enough. This could be because of the  low correlation between the quality and the rest of the variables which could mean a subjective valoration of the whine, as seen before on the heatmap.\n",
    "\n",
    "\n",
    "Made by Álvaro García Sierra\n"
   ]
  },
  {
   "cell_type": "code",
   "execution_count": null,
   "id": "abb54d6f",
   "metadata": {},
   "outputs": [],
   "source": []
  }
 ],
 "metadata": {
  "kernelspec": {
   "display_name": "Python 3",
   "language": "python",
   "name": "python3"
  },
  "language_info": {
   "codemirror_mode": {
    "name": "ipython",
    "version": 3
   },
   "file_extension": ".py",
   "mimetype": "text/x-python",
   "name": "python",
   "nbconvert_exporter": "python",
   "pygments_lexer": "ipython3",
   "version": "3.8.8"
  }
 },
 "nbformat": 4,
 "nbformat_minor": 5
}
